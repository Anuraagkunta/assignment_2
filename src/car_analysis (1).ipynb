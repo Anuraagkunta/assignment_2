{
  "nbformat": 4,
  "nbformat_minor": 0,
  "metadata": {
    "colab": {
      "provenance": []
    },
    "kernelspec": {
      "name": "python3",
      "display_name": "Python 3"
    },
    "language_info": {
      "name": "python"
    }
  },
  "cells": [
    {
      "cell_type": "code",
      "execution_count": 97,
      "metadata": {
        "id": "Yt3CoJFa0H9O"
      },
      "outputs": [],
      "source": [
        "import pandas as pd\n",
        "import numpy as np\n",
        "from datetime import datetime"
      ]
    },
    {
      "cell_type": "code",
      "source": [
        "new_dataset = pd.read_csv('/train.csv')"
      ],
      "metadata": {
        "id": "2myRzyY70LgZ"
      },
      "execution_count": 98,
      "outputs": []
    },
    {
      "cell_type": "code",
      "source": [
        "new_dataset.head()"
      ],
      "metadata": {
        "colab": {
          "base_uri": "https://localhost:8080/",
          "height": 417
        },
        "id": "P3SyhWsG1V3L",
        "outputId": "4024d342-a337-498e-e185-b54c4899ca9f"
      },
      "execution_count": 99,
      "outputs": [
        {
          "output_type": "execute_result",
          "data": {
            "text/plain": [
              "   Unnamed: 0                              Name    Location  Year  \\\n",
              "0           1  Hyundai Creta 1.6 CRDi SX Option        Pune  2015   \n",
              "1           2                      Honda Jazz V     Chennai  2011   \n",
              "2           3                 Maruti Ertiga VDI     Chennai  2012   \n",
              "3           4   Audi A4 New 2.0 TDI Multitronic  Coimbatore  2013   \n",
              "4           6            Nissan Micra Diesel XV      Jaipur  2013   \n",
              "\n",
              "   Kilometers_Driven Fuel_Type Transmission Owner_Type     Mileage   Engine  \\\n",
              "0              41000    Diesel       Manual      First  19.67 kmpl  1582 CC   \n",
              "1              46000    Petrol       Manual      First    13 km/kg  1199 CC   \n",
              "2              87000    Diesel       Manual      First  20.77 kmpl  1248 CC   \n",
              "3              40670    Diesel    Automatic     Second   15.2 kmpl  1968 CC   \n",
              "4              86999    Diesel       Manual      First  23.08 kmpl  1461 CC   \n",
              "\n",
              "       Power  Seats  New_Price  Price  \n",
              "0  126.2 bhp    5.0        NaN  12.50  \n",
              "1   88.7 bhp    5.0  8.61 Lakh   4.50  \n",
              "2  88.76 bhp    7.0        NaN   6.00  \n",
              "3  140.8 bhp    5.0        NaN  17.74  \n",
              "4   63.1 bhp    5.0        NaN   3.50  "
            ],
            "text/html": [
              "\n",
              "  <div id=\"df-01496618-998b-4e81-a058-ce86a0bcf469\" class=\"colab-df-container\">\n",
              "    <div>\n",
              "<style scoped>\n",
              "    .dataframe tbody tr th:only-of-type {\n",
              "        vertical-align: middle;\n",
              "    }\n",
              "\n",
              "    .dataframe tbody tr th {\n",
              "        vertical-align: top;\n",
              "    }\n",
              "\n",
              "    .dataframe thead th {\n",
              "        text-align: right;\n",
              "    }\n",
              "</style>\n",
              "<table border=\"1\" class=\"dataframe\">\n",
              "  <thead>\n",
              "    <tr style=\"text-align: right;\">\n",
              "      <th></th>\n",
              "      <th>Unnamed: 0</th>\n",
              "      <th>Name</th>\n",
              "      <th>Location</th>\n",
              "      <th>Year</th>\n",
              "      <th>Kilometers_Driven</th>\n",
              "      <th>Fuel_Type</th>\n",
              "      <th>Transmission</th>\n",
              "      <th>Owner_Type</th>\n",
              "      <th>Mileage</th>\n",
              "      <th>Engine</th>\n",
              "      <th>Power</th>\n",
              "      <th>Seats</th>\n",
              "      <th>New_Price</th>\n",
              "      <th>Price</th>\n",
              "    </tr>\n",
              "  </thead>\n",
              "  <tbody>\n",
              "    <tr>\n",
              "      <th>0</th>\n",
              "      <td>1</td>\n",
              "      <td>Hyundai Creta 1.6 CRDi SX Option</td>\n",
              "      <td>Pune</td>\n",
              "      <td>2015</td>\n",
              "      <td>41000</td>\n",
              "      <td>Diesel</td>\n",
              "      <td>Manual</td>\n",
              "      <td>First</td>\n",
              "      <td>19.67 kmpl</td>\n",
              "      <td>1582 CC</td>\n",
              "      <td>126.2 bhp</td>\n",
              "      <td>5.0</td>\n",
              "      <td>NaN</td>\n",
              "      <td>12.50</td>\n",
              "    </tr>\n",
              "    <tr>\n",
              "      <th>1</th>\n",
              "      <td>2</td>\n",
              "      <td>Honda Jazz V</td>\n",
              "      <td>Chennai</td>\n",
              "      <td>2011</td>\n",
              "      <td>46000</td>\n",
              "      <td>Petrol</td>\n",
              "      <td>Manual</td>\n",
              "      <td>First</td>\n",
              "      <td>13 km/kg</td>\n",
              "      <td>1199 CC</td>\n",
              "      <td>88.7 bhp</td>\n",
              "      <td>5.0</td>\n",
              "      <td>8.61 Lakh</td>\n",
              "      <td>4.50</td>\n",
              "    </tr>\n",
              "    <tr>\n",
              "      <th>2</th>\n",
              "      <td>3</td>\n",
              "      <td>Maruti Ertiga VDI</td>\n",
              "      <td>Chennai</td>\n",
              "      <td>2012</td>\n",
              "      <td>87000</td>\n",
              "      <td>Diesel</td>\n",
              "      <td>Manual</td>\n",
              "      <td>First</td>\n",
              "      <td>20.77 kmpl</td>\n",
              "      <td>1248 CC</td>\n",
              "      <td>88.76 bhp</td>\n",
              "      <td>7.0</td>\n",
              "      <td>NaN</td>\n",
              "      <td>6.00</td>\n",
              "    </tr>\n",
              "    <tr>\n",
              "      <th>3</th>\n",
              "      <td>4</td>\n",
              "      <td>Audi A4 New 2.0 TDI Multitronic</td>\n",
              "      <td>Coimbatore</td>\n",
              "      <td>2013</td>\n",
              "      <td>40670</td>\n",
              "      <td>Diesel</td>\n",
              "      <td>Automatic</td>\n",
              "      <td>Second</td>\n",
              "      <td>15.2 kmpl</td>\n",
              "      <td>1968 CC</td>\n",
              "      <td>140.8 bhp</td>\n",
              "      <td>5.0</td>\n",
              "      <td>NaN</td>\n",
              "      <td>17.74</td>\n",
              "    </tr>\n",
              "    <tr>\n",
              "      <th>4</th>\n",
              "      <td>6</td>\n",
              "      <td>Nissan Micra Diesel XV</td>\n",
              "      <td>Jaipur</td>\n",
              "      <td>2013</td>\n",
              "      <td>86999</td>\n",
              "      <td>Diesel</td>\n",
              "      <td>Manual</td>\n",
              "      <td>First</td>\n",
              "      <td>23.08 kmpl</td>\n",
              "      <td>1461 CC</td>\n",
              "      <td>63.1 bhp</td>\n",
              "      <td>5.0</td>\n",
              "      <td>NaN</td>\n",
              "      <td>3.50</td>\n",
              "    </tr>\n",
              "  </tbody>\n",
              "</table>\n",
              "</div>\n",
              "    <div class=\"colab-df-buttons\">\n",
              "\n",
              "  <div class=\"colab-df-container\">\n",
              "    <button class=\"colab-df-convert\" onclick=\"convertToInteractive('df-01496618-998b-4e81-a058-ce86a0bcf469')\"\n",
              "            title=\"Convert this dataframe to an interactive table.\"\n",
              "            style=\"display:none;\">\n",
              "\n",
              "  <svg xmlns=\"http://www.w3.org/2000/svg\" height=\"24px\" viewBox=\"0 -960 960 960\">\n",
              "    <path d=\"M120-120v-720h720v720H120Zm60-500h600v-160H180v160Zm220 220h160v-160H400v160Zm0 220h160v-160H400v160ZM180-400h160v-160H180v160Zm440 0h160v-160H620v160ZM180-180h160v-160H180v160Zm440 0h160v-160H620v160Z\"/>\n",
              "  </svg>\n",
              "    </button>\n",
              "\n",
              "  <style>\n",
              "    .colab-df-container {\n",
              "      display:flex;\n",
              "      gap: 12px;\n",
              "    }\n",
              "\n",
              "    .colab-df-convert {\n",
              "      background-color: #E8F0FE;\n",
              "      border: none;\n",
              "      border-radius: 50%;\n",
              "      cursor: pointer;\n",
              "      display: none;\n",
              "      fill: #1967D2;\n",
              "      height: 32px;\n",
              "      padding: 0 0 0 0;\n",
              "      width: 32px;\n",
              "    }\n",
              "\n",
              "    .colab-df-convert:hover {\n",
              "      background-color: #E2EBFA;\n",
              "      box-shadow: 0px 1px 2px rgba(60, 64, 67, 0.3), 0px 1px 3px 1px rgba(60, 64, 67, 0.15);\n",
              "      fill: #174EA6;\n",
              "    }\n",
              "\n",
              "    .colab-df-buttons div {\n",
              "      margin-bottom: 4px;\n",
              "    }\n",
              "\n",
              "    [theme=dark] .colab-df-convert {\n",
              "      background-color: #3B4455;\n",
              "      fill: #D2E3FC;\n",
              "    }\n",
              "\n",
              "    [theme=dark] .colab-df-convert:hover {\n",
              "      background-color: #434B5C;\n",
              "      box-shadow: 0px 1px 3px 1px rgba(0, 0, 0, 0.15);\n",
              "      filter: drop-shadow(0px 1px 2px rgba(0, 0, 0, 0.3));\n",
              "      fill: #FFFFFF;\n",
              "    }\n",
              "  </style>\n",
              "\n",
              "    <script>\n",
              "      const buttonEl =\n",
              "        document.querySelector('#df-01496618-998b-4e81-a058-ce86a0bcf469 button.colab-df-convert');\n",
              "      buttonEl.style.display =\n",
              "        google.colab.kernel.accessAllowed ? 'block' : 'none';\n",
              "\n",
              "      async function convertToInteractive(key) {\n",
              "        const element = document.querySelector('#df-01496618-998b-4e81-a058-ce86a0bcf469');\n",
              "        const dataTable =\n",
              "          await google.colab.kernel.invokeFunction('convertToInteractive',\n",
              "                                                    [key], {});\n",
              "        if (!dataTable) return;\n",
              "\n",
              "        const docLinkHtml = 'Like what you see? Visit the ' +\n",
              "          '<a target=\"_blank\" href=https://colab.research.google.com/notebooks/data_table.ipynb>data table notebook</a>'\n",
              "          + ' to learn more about interactive tables.';\n",
              "        element.innerHTML = '';\n",
              "        dataTable['output_type'] = 'display_data';\n",
              "        await google.colab.output.renderOutput(dataTable, element);\n",
              "        const docLink = document.createElement('div');\n",
              "        docLink.innerHTML = docLinkHtml;\n",
              "        element.appendChild(docLink);\n",
              "      }\n",
              "    </script>\n",
              "  </div>\n",
              "\n",
              "\n",
              "<div id=\"df-9a07a7ed-1c57-46e7-86e7-ca33dffe6398\">\n",
              "  <button class=\"colab-df-quickchart\" onclick=\"quickchart('df-9a07a7ed-1c57-46e7-86e7-ca33dffe6398')\"\n",
              "            title=\"Suggest charts\"\n",
              "            style=\"display:none;\">\n",
              "\n",
              "<svg xmlns=\"http://www.w3.org/2000/svg\" height=\"24px\"viewBox=\"0 0 24 24\"\n",
              "     width=\"24px\">\n",
              "    <g>\n",
              "        <path d=\"M19 3H5c-1.1 0-2 .9-2 2v14c0 1.1.9 2 2 2h14c1.1 0 2-.9 2-2V5c0-1.1-.9-2-2-2zM9 17H7v-7h2v7zm4 0h-2V7h2v10zm4 0h-2v-4h2v4z\"/>\n",
              "    </g>\n",
              "</svg>\n",
              "  </button>\n",
              "\n",
              "<style>\n",
              "  .colab-df-quickchart {\n",
              "      --bg-color: #E8F0FE;\n",
              "      --fill-color: #1967D2;\n",
              "      --hover-bg-color: #E2EBFA;\n",
              "      --hover-fill-color: #174EA6;\n",
              "      --disabled-fill-color: #AAA;\n",
              "      --disabled-bg-color: #DDD;\n",
              "  }\n",
              "\n",
              "  [theme=dark] .colab-df-quickchart {\n",
              "      --bg-color: #3B4455;\n",
              "      --fill-color: #D2E3FC;\n",
              "      --hover-bg-color: #434B5C;\n",
              "      --hover-fill-color: #FFFFFF;\n",
              "      --disabled-bg-color: #3B4455;\n",
              "      --disabled-fill-color: #666;\n",
              "  }\n",
              "\n",
              "  .colab-df-quickchart {\n",
              "    background-color: var(--bg-color);\n",
              "    border: none;\n",
              "    border-radius: 50%;\n",
              "    cursor: pointer;\n",
              "    display: none;\n",
              "    fill: var(--fill-color);\n",
              "    height: 32px;\n",
              "    padding: 0;\n",
              "    width: 32px;\n",
              "  }\n",
              "\n",
              "  .colab-df-quickchart:hover {\n",
              "    background-color: var(--hover-bg-color);\n",
              "    box-shadow: 0 1px 2px rgba(60, 64, 67, 0.3), 0 1px 3px 1px rgba(60, 64, 67, 0.15);\n",
              "    fill: var(--button-hover-fill-color);\n",
              "  }\n",
              "\n",
              "  .colab-df-quickchart-complete:disabled,\n",
              "  .colab-df-quickchart-complete:disabled:hover {\n",
              "    background-color: var(--disabled-bg-color);\n",
              "    fill: var(--disabled-fill-color);\n",
              "    box-shadow: none;\n",
              "  }\n",
              "\n",
              "  .colab-df-spinner {\n",
              "    border: 2px solid var(--fill-color);\n",
              "    border-color: transparent;\n",
              "    border-bottom-color: var(--fill-color);\n",
              "    animation:\n",
              "      spin 1s steps(1) infinite;\n",
              "  }\n",
              "\n",
              "  @keyframes spin {\n",
              "    0% {\n",
              "      border-color: transparent;\n",
              "      border-bottom-color: var(--fill-color);\n",
              "      border-left-color: var(--fill-color);\n",
              "    }\n",
              "    20% {\n",
              "      border-color: transparent;\n",
              "      border-left-color: var(--fill-color);\n",
              "      border-top-color: var(--fill-color);\n",
              "    }\n",
              "    30% {\n",
              "      border-color: transparent;\n",
              "      border-left-color: var(--fill-color);\n",
              "      border-top-color: var(--fill-color);\n",
              "      border-right-color: var(--fill-color);\n",
              "    }\n",
              "    40% {\n",
              "      border-color: transparent;\n",
              "      border-right-color: var(--fill-color);\n",
              "      border-top-color: var(--fill-color);\n",
              "    }\n",
              "    60% {\n",
              "      border-color: transparent;\n",
              "      border-right-color: var(--fill-color);\n",
              "    }\n",
              "    80% {\n",
              "      border-color: transparent;\n",
              "      border-right-color: var(--fill-color);\n",
              "      border-bottom-color: var(--fill-color);\n",
              "    }\n",
              "    90% {\n",
              "      border-color: transparent;\n",
              "      border-bottom-color: var(--fill-color);\n",
              "    }\n",
              "  }\n",
              "</style>\n",
              "\n",
              "  <script>\n",
              "    async function quickchart(key) {\n",
              "      const quickchartButtonEl =\n",
              "        document.querySelector('#' + key + ' button');\n",
              "      quickchartButtonEl.disabled = true;  // To prevent multiple clicks.\n",
              "      quickchartButtonEl.classList.add('colab-df-spinner');\n",
              "      try {\n",
              "        const charts = await google.colab.kernel.invokeFunction(\n",
              "            'suggestCharts', [key], {});\n",
              "      } catch (error) {\n",
              "        console.error('Error during call to suggestCharts:', error);\n",
              "      }\n",
              "      quickchartButtonEl.classList.remove('colab-df-spinner');\n",
              "      quickchartButtonEl.classList.add('colab-df-quickchart-complete');\n",
              "    }\n",
              "    (() => {\n",
              "      let quickchartButtonEl =\n",
              "        document.querySelector('#df-9a07a7ed-1c57-46e7-86e7-ca33dffe6398 button');\n",
              "      quickchartButtonEl.style.display =\n",
              "        google.colab.kernel.accessAllowed ? 'block' : 'none';\n",
              "    })();\n",
              "  </script>\n",
              "</div>\n",
              "\n",
              "    </div>\n",
              "  </div>\n"
            ],
            "application/vnd.google.colaboratory.intrinsic+json": {
              "type": "dataframe",
              "variable_name": "new_dataset",
              "summary": "{\n  \"name\": \"new_dataset\",\n  \"rows\": 5847,\n  \"fields\": [\n    {\n      \"column\": \"Unnamed: 0\",\n      \"properties\": {\n        \"dtype\": \"number\",\n        \"std\": 1736,\n        \"min\": 1,\n        \"max\": 6018,\n        \"num_unique_values\": 5847,\n        \"samples\": [\n          5259,\n          3413,\n          4365\n        ],\n        \"semantic_type\": \"\",\n        \"description\": \"\"\n      }\n    },\n    {\n      \"column\": \"Name\",\n      \"properties\": {\n        \"dtype\": \"category\",\n        \"num_unique_values\": 1804,\n        \"samples\": [\n          \"BMW 7 Series 2007-2012 750Li\",\n          \"Maruti Ertiga SHVS VDI\",\n          \"Mahindra XUV300 W8 Diesel\"\n        ],\n        \"semantic_type\": \"\",\n        \"description\": \"\"\n      }\n    },\n    {\n      \"column\": \"Location\",\n      \"properties\": {\n        \"dtype\": \"category\",\n        \"num_unique_values\": 11,\n        \"samples\": [\n          \"Kochi\",\n          \"Pune\",\n          \"Hyderabad\"\n        ],\n        \"semantic_type\": \"\",\n        \"description\": \"\"\n      }\n    },\n    {\n      \"column\": \"Year\",\n      \"properties\": {\n        \"dtype\": \"number\",\n        \"std\": 3,\n        \"min\": 1998,\n        \"max\": 2019,\n        \"num_unique_values\": 22,\n        \"samples\": [\n          2015,\n          2006,\n          2010\n        ],\n        \"semantic_type\": \"\",\n        \"description\": \"\"\n      }\n    },\n    {\n      \"column\": \"Kilometers_Driven\",\n      \"properties\": {\n        \"dtype\": \"number\",\n        \"std\": 92379,\n        \"min\": 171,\n        \"max\": 6500000,\n        \"num_unique_values\": 3019,\n        \"samples\": [\n          56075,\n          75421,\n          143275\n        ],\n        \"semantic_type\": \"\",\n        \"description\": \"\"\n      }\n    },\n    {\n      \"column\": \"Fuel_Type\",\n      \"properties\": {\n        \"dtype\": \"category\",\n        \"num_unique_values\": 3,\n        \"samples\": [\n          \"Diesel\",\n          \"Petrol\",\n          \"Electric\"\n        ],\n        \"semantic_type\": \"\",\n        \"description\": \"\"\n      }\n    },\n    {\n      \"column\": \"Transmission\",\n      \"properties\": {\n        \"dtype\": \"category\",\n        \"num_unique_values\": 2,\n        \"samples\": [\n          \"Automatic\",\n          \"Manual\"\n        ],\n        \"semantic_type\": \"\",\n        \"description\": \"\"\n      }\n    },\n    {\n      \"column\": \"Owner_Type\",\n      \"properties\": {\n        \"dtype\": \"category\",\n        \"num_unique_values\": 4,\n        \"samples\": [\n          \"Second\",\n          \"Third\"\n        ],\n        \"semantic_type\": \"\",\n        \"description\": \"\"\n      }\n    },\n    {\n      \"column\": \"Mileage\",\n      \"properties\": {\n        \"dtype\": \"category\",\n        \"num_unique_values\": 419,\n        \"samples\": [\n          \"18.16 kmpl\",\n          \"23.84 kmpl\"\n        ],\n        \"semantic_type\": \"\",\n        \"description\": \"\"\n      }\n    },\n    {\n      \"column\": \"Engine\",\n      \"properties\": {\n        \"dtype\": \"category\",\n        \"num_unique_values\": 140,\n        \"samples\": [\n          \"2495 CC\",\n          \"1794 CC\"\n        ],\n        \"semantic_type\": \"\",\n        \"description\": \"\"\n      }\n    },\n    {\n      \"column\": \"Power\",\n      \"properties\": {\n        \"dtype\": \"category\",\n        \"num_unique_values\": 361,\n        \"samples\": [\n          \"62.1 bhp\",\n          \"77 bhp\"\n        ],\n        \"semantic_type\": \"\",\n        \"description\": \"\"\n      }\n    },\n    {\n      \"column\": \"Seats\",\n      \"properties\": {\n        \"dtype\": \"number\",\n        \"std\": 0.8066681227181947,\n        \"min\": 2.0,\n        \"max\": 10.0,\n        \"num_unique_values\": 8,\n        \"samples\": [\n          7.0,\n          2.0\n        ],\n        \"semantic_type\": \"\",\n        \"description\": \"\"\n      }\n    },\n    {\n      \"column\": \"New_Price\",\n      \"properties\": {\n        \"dtype\": \"category\",\n        \"num_unique_values\": 534,\n        \"samples\": [\n          \"10.48 Lakh\",\n          \"14.1 Lakh\"\n        ],\n        \"semantic_type\": \"\",\n        \"description\": \"\"\n      }\n    },\n    {\n      \"column\": \"Price\",\n      \"properties\": {\n        \"dtype\": \"number\",\n        \"std\": 11.275965706808474,\n        \"min\": 0.44,\n        \"max\": 160.0,\n        \"num_unique_values\": 1366,\n        \"samples\": [\n          3.98,\n          3.78\n        ],\n        \"semantic_type\": \"\",\n        \"description\": \"\"\n      }\n    }\n  ]\n}"
            }
          },
          "metadata": {},
          "execution_count": 99
        }
      ]
    },
    {
      "cell_type": "markdown",
      "source": [
        "(a&b)Handle missing values and remove units from the columns"
      ],
      "metadata": {
        "id": "8t97rg0p1e2x"
      }
    },
    {
      "cell_type": "code",
      "source": [
        "# Check for missing values in each column\n",
        "missing_values1 = new_dataset.isnull().sum()\n",
        "print(\"Missing Values in each column are:\")\n",
        "print(missing_values1)"
      ],
      "metadata": {
        "colab": {
          "base_uri": "https://localhost:8080/"
        },
        "id": "FN_BTsgG1azf",
        "outputId": "b966fb0c-39cc-4efe-8ed8-79aa72be728c"
      },
      "execution_count": 100,
      "outputs": [
        {
          "output_type": "stream",
          "name": "stdout",
          "text": [
            "Missing Values in each column are:\n",
            "Unnamed: 0              0\n",
            "Name                    0\n",
            "Location                0\n",
            "Year                    0\n",
            "Kilometers_Driven       0\n",
            "Fuel_Type               0\n",
            "Transmission            0\n",
            "Owner_Type              0\n",
            "Mileage                 2\n",
            "Engine                 36\n",
            "Power                  36\n",
            "Seats                  38\n",
            "New_Price            5032\n",
            "Price                   0\n",
            "dtype: int64\n"
          ]
        }
      ]
    },
    {
      "cell_type": "markdown",
      "source": [
        "By above observation, Mileage, Engine, Power, Seats & New_Price has null or missing values.\n",
        "1. Handle Mileage column\n",
        "The error shows sample('19.67 kmpl') cannot convert to numeric.\n",
        "\n",
        "Solution: Remove the units."
      ],
      "metadata": {
        "id": "tx8aA-aQ1t1P"
      }
    },
    {
      "cell_type": "code",
      "source": [
        "# Check the missing values\n",
        "print(\"Number of Missing Values in Mileage Column before handling are:\" ,  new_dataset['Mileage'].isnull().sum())\n",
        "\n",
        "# Regular Expression is used in str.extract() function to extract substrings\n",
        "# \\d+: Matches one or more digits.\n",
        "# \\.: Matches a literal dot (period).\n",
        "# \\d+: Matches one or more digits after the dot.\n",
        "# astype(float) function is then used to convert the extracted substrings(str) to float.\n",
        "new_dataset['Mileage'] = new_dataset['Mileage'].str.extract('(\\d+\\.\\d+|\\d+)').astype(float)\n",
        "\n",
        "# Mileage is reported in kmpl,\n",
        "# it's reasonable to assume that missing values are likely to be missing at random.\n",
        "# In such cases, filling with the median is a common strategy.\n",
        "new_dataset['Mileage'].fillna(new_dataset['Mileage'].median(), inplace=True)\n",
        "\n",
        "# Check missing values\n",
        "print(\" Number of Missing Values in Mileage Column after handling are:\" ,  new_dataset['Mileage'].isnull().sum())"
      ],
      "metadata": {
        "colab": {
          "base_uri": "https://localhost:8080/"
        },
        "id": "G6GtlMdF1n-B",
        "outputId": "9f5e8dd6-f45d-4015-f7b9-d807cc079467"
      },
      "execution_count": 101,
      "outputs": [
        {
          "output_type": "stream",
          "name": "stdout",
          "text": [
            "Number of Missing Values in Mileage Column before handling are: 2\n",
            " Number of Missing Values in Mileage Column after handling are: 0\n"
          ]
        }
      ]
    },
    {
      "cell_type": "markdown",
      "source": [
        "2. Handle Engine column\n",
        "The error shows sample('300 CC') cannot convert to numeric.\n",
        "\n",
        "Solution: Remove the units."
      ],
      "metadata": {
        "id": "dydAXbH62qTI"
      }
    },
    {
      "cell_type": "code",
      "source": [
        "# Check missing values in the dataset\n",
        "print(\"Number of Missing Values in Engine Column after handling are:\" ,  new_dataset['Engine'].isnull().sum())\n",
        "# Remove units\n",
        "new_dataset['Engine'] = new_dataset['Engine'].str.extract('(\\d+\\.\\d+|\\d+)').astype(float)\n",
        "# Missing values for engine size are often handled by filling the mean value\n",
        "new_dataset['Engine'].fillna(new_dataset['Engine'].mean(), inplace=True)\n",
        "# Check missing values in the dataset\n",
        "print(\"Number of Missing Values in Engine Column before handling are:\" , new_dataset['Engine'].isnull().sum())"
      ],
      "metadata": {
        "colab": {
          "base_uri": "https://localhost:8080/"
        },
        "id": "fVvapIxq2l-d",
        "outputId": "ca20f12d-63c7-4cc4-96b2-53700c9cc36d"
      },
      "execution_count": 102,
      "outputs": [
        {
          "output_type": "stream",
          "name": "stdout",
          "text": [
            "Number of Missing Values in Engine Column after handling are: 36\n",
            "Number of Missing Values in Engine Column before handling are: 0\n"
          ]
        }
      ]
    },
    {
      "cell_type": "markdown",
      "source": [
        "3. Handle Power Column\n",
        "The error shows sample('39.09 bhp') cannot convert to numeric.\n",
        "\n",
        "Solution: Remove the units."
      ],
      "metadata": {
        "id": "oOZGumHi2yy6"
      }
    },
    {
      "cell_type": "code",
      "source": [
        "# Check missing values in the dataset\n",
        "print(\"Number of Missing Values in Power Column after handling:\" ,  new_dataset['Power'].isnull().sum())\n",
        "# Remove units in the dataset\n",
        "new_dataset['Power'] = new_dataset['Power'].str.extract('(\\d+\\.\\d+|\\d+)').astype(float)\n",
        "# Missing values for Power are often handled by filling the mean value\n",
        "new_dataset['Power'].fillna(new_dataset['Power'].mean(), inplace=True)\n",
        "# Check missing values in the dataset\n",
        "print(\"Number of Missing Values in Power Column before handling are:\" , new_dataset['Power'].isnull().sum())"
      ],
      "metadata": {
        "colab": {
          "base_uri": "https://localhost:8080/"
        },
        "id": "k5LQ5E1Y22gC",
        "outputId": "47933d94-c613-46ff-e80d-6434156b2fb9"
      },
      "execution_count": 103,
      "outputs": [
        {
          "output_type": "stream",
          "name": "stdout",
          "text": [
            "Number of Missing Values in Power Column after handling: 36\n",
            "Number of Missing Values in Power Column before handling are: 0\n"
          ]
        }
      ]
    },
    {
      "cell_type": "markdown",
      "source": [
        "4. Handle Seats Column"
      ],
      "metadata": {
        "id": "YS7qv_Nn2_zg"
      }
    },
    {
      "cell_type": "code",
      "source": [
        "# Check missing values in the dataset\n",
        "print(\"Number of Missing Values in Seats Column before handling are:\" ,  new_dataset['Seats'].isnull().sum())\n",
        "# Missing values for seats of the car are often handled by filling the mean value\n",
        "new_dataset['Seats'].fillna(new_dataset['Seats'].mean(), inplace=True)\n",
        "# Check missing values in the dataset\n",
        "print(\"Number of Missing Values in Seats Column after handling are:\" ,  new_dataset['Seats'].isnull().sum())"
      ],
      "metadata": {
        "colab": {
          "base_uri": "https://localhost:8080/"
        },
        "id": "AsqgnOpU3BVG",
        "outputId": "4ad9689a-2af7-414e-dcd6-5da2e435a79b"
      },
      "execution_count": 104,
      "outputs": [
        {
          "output_type": "stream",
          "name": "stdout",
          "text": [
            "Number of Missing Values in Seats Column before handling are: 38\n",
            "Number of Missing Values in Seats Column after handling are: 0\n"
          ]
        }
      ]
    },
    {
      "cell_type": "markdown",
      "source": [
        "5. Handle New_Price Column"
      ],
      "metadata": {
        "id": "4lEkDkm33J1e"
      }
    },
    {
      "cell_type": "markdown",
      "source": [],
      "metadata": {
        "id": "eP4_J5is3F92"
      }
    },
    {
      "cell_type": "code",
      "source": [
        "# Drop the New_Price column because it has a high number of missing values\n",
        "new_dataset.drop('New_Price', axis=1, inplace=True)"
      ],
      "metadata": {
        "id": "xMjXxlCo3K1i"
      },
      "execution_count": 105,
      "outputs": []
    },
    {
      "cell_type": "markdown",
      "source": [
        "View the no null values handled DataFrame."
      ],
      "metadata": {
        "id": "CYGdFie13P6Q"
      }
    },
    {
      "cell_type": "code",
      "source": [
        "missing_values = new_dataset.isnull().sum()\n",
        "missing_values"
      ],
      "metadata": {
        "colab": {
          "base_uri": "https://localhost:8080/"
        },
        "id": "VEaYtF5o3Smy",
        "outputId": "51e9d67c-a4bf-44f4-e654-de26c5cf1f91"
      },
      "execution_count": 106,
      "outputs": [
        {
          "output_type": "execute_result",
          "data": {
            "text/plain": [
              "Unnamed: 0           0\n",
              "Name                 0\n",
              "Location             0\n",
              "Year                 0\n",
              "Kilometers_Driven    0\n",
              "Fuel_Type            0\n",
              "Transmission         0\n",
              "Owner_Type           0\n",
              "Mileage              0\n",
              "Engine               0\n",
              "Power                0\n",
              "Seats                0\n",
              "Price                0\n",
              "dtype: int64"
            ]
          },
          "metadata": {},
          "execution_count": 106
        }
      ]
    },
    {
      "cell_type": "markdown",
      "source": [
        "(c)  Change the categorical variables (“Fuel_Type” and “Transmission”) into numerical one hot encoded value"
      ],
      "metadata": {
        "id": "ovM0dHFR3blG"
      }
    },
    {
      "cell_type": "code",
      "source": [
        "# Encoding Categorical Variables by using get_dummies function from pandas\n",
        "new_dataset = pd.get_dummies(new_dataset, columns=['Fuel_Type', 'Transmission'])\n",
        "\n",
        "# Display the modified dataset\n",
        "print(new_dataset.head())"
      ],
      "metadata": {
        "colab": {
          "base_uri": "https://localhost:8080/"
        },
        "id": "TXyl8Krc3c6M",
        "outputId": "0d7a65c5-18b6-4513-ca5a-64b5c9118a7a"
      },
      "execution_count": 107,
      "outputs": [
        {
          "output_type": "stream",
          "name": "stdout",
          "text": [
            "   Unnamed: 0                              Name    Location  Year  \\\n",
            "0           1  Hyundai Creta 1.6 CRDi SX Option        Pune  2015   \n",
            "1           2                      Honda Jazz V     Chennai  2011   \n",
            "2           3                 Maruti Ertiga VDI     Chennai  2012   \n",
            "3           4   Audi A4 New 2.0 TDI Multitronic  Coimbatore  2013   \n",
            "4           6            Nissan Micra Diesel XV      Jaipur  2013   \n",
            "\n",
            "   Kilometers_Driven Owner_Type  Mileage  Engine   Power  Seats  Price  \\\n",
            "0              41000      First    19.67  1582.0  126.20    5.0  12.50   \n",
            "1              46000      First    13.00  1199.0   88.70    5.0   4.50   \n",
            "2              87000      First    20.77  1248.0   88.76    7.0   6.00   \n",
            "3              40670     Second    15.20  1968.0  140.80    5.0  17.74   \n",
            "4              86999      First    23.08  1461.0   63.10    5.0   3.50   \n",
            "\n",
            "   Fuel_Type_Diesel  Fuel_Type_Electric  Fuel_Type_Petrol  \\\n",
            "0              True               False             False   \n",
            "1             False               False              True   \n",
            "2              True               False             False   \n",
            "3              True               False             False   \n",
            "4              True               False             False   \n",
            "\n",
            "   Transmission_Automatic  Transmission_Manual  \n",
            "0                   False                 True  \n",
            "1                   False                 True  \n",
            "2                   False                 True  \n",
            "3                    True                False  \n",
            "4                   False                 True  \n"
          ]
        }
      ]
    },
    {
      "cell_type": "markdown",
      "source": [
        "(d)  Create one more feature and add this column to the dataset."
      ],
      "metadata": {
        "id": "RhYgxooZ3vbl"
      }
    },
    {
      "cell_type": "markdown",
      "source": [
        "Creating Years_in_service feature which define the age of the car."
      ],
      "metadata": {
        "id": "yhF93H8p31TE"
      }
    },
    {
      "cell_type": "code",
      "source": [
        "# Calculate current year\n",
        "current_year = datetime.now().year\n",
        "\n",
        "# Subtract \"Year\" column from the current year to calculate the age of the car\n",
        "new_dataset['Yrs_in_Service'] = current_year - new_dataset['Year']\n",
        "\n",
        "# Display the modified dataset with the new feature\n",
        "print(new_dataset.head())"
      ],
      "metadata": {
        "colab": {
          "base_uri": "https://localhost:8080/"
        },
        "id": "R0wqfrKV3x-V",
        "outputId": "a8fd60f8-c6be-4b71-89b5-7d7e4c84a879"
      },
      "execution_count": 108,
      "outputs": [
        {
          "output_type": "stream",
          "name": "stdout",
          "text": [
            "   Unnamed: 0                              Name    Location  Year  \\\n",
            "0           1  Hyundai Creta 1.6 CRDi SX Option        Pune  2015   \n",
            "1           2                      Honda Jazz V     Chennai  2011   \n",
            "2           3                 Maruti Ertiga VDI     Chennai  2012   \n",
            "3           4   Audi A4 New 2.0 TDI Multitronic  Coimbatore  2013   \n",
            "4           6            Nissan Micra Diesel XV      Jaipur  2013   \n",
            "\n",
            "   Kilometers_Driven Owner_Type  Mileage  Engine   Power  Seats  Price  \\\n",
            "0              41000      First    19.67  1582.0  126.20    5.0  12.50   \n",
            "1              46000      First    13.00  1199.0   88.70    5.0   4.50   \n",
            "2              87000      First    20.77  1248.0   88.76    7.0   6.00   \n",
            "3              40670     Second    15.20  1968.0  140.80    5.0  17.74   \n",
            "4              86999      First    23.08  1461.0   63.10    5.0   3.50   \n",
            "\n",
            "   Fuel_Type_Diesel  Fuel_Type_Electric  Fuel_Type_Petrol  \\\n",
            "0              True               False             False   \n",
            "1             False               False              True   \n",
            "2              True               False             False   \n",
            "3              True               False             False   \n",
            "4              True               False             False   \n",
            "\n",
            "   Transmission_Automatic  Transmission_Manual  Yrs_in_Service  \n",
            "0                   False                 True               9  \n",
            "1                   False                 True              13  \n",
            "2                   False                 True              12  \n",
            "3                    True                False              11  \n",
            "4                   False                 True              11  \n"
          ]
        }
      ]
    },
    {
      "cell_type": "markdown",
      "source": [
        "Creating Mileage_Category feature to define mileage value by category."
      ],
      "metadata": {
        "id": "pGyE0fE13-ug"
      }
    },
    {
      "cell_type": "code",
      "source": [
        "# Define the mileage categories of the cars\n",
        "mileage_bins = [0, 10, 20, 30, float('inf')]\n",
        "mileage_labels = ['Very Low', 'Low', 'Medium', 'High']\n",
        "\n",
        "# Create a new feature 'Mileage_Category' based on the mileage groups\n",
        "new_dataset['Mileage_Category'] = pd.cut(new_dataset['Mileage'], bins=mileage_bins, labels=mileage_labels, right=False)\n",
        "\n",
        "# Display the modified dataset with the new feature\n",
        "print(new_dataset.head())"
      ],
      "metadata": {
        "colab": {
          "base_uri": "https://localhost:8080/"
        },
        "id": "s6QSZXJF3_ri",
        "outputId": "0b7258e0-fdbc-4770-8570-40e59af5d54e"
      },
      "execution_count": 109,
      "outputs": [
        {
          "output_type": "stream",
          "name": "stdout",
          "text": [
            "   Unnamed: 0                              Name    Location  Year  \\\n",
            "0           1  Hyundai Creta 1.6 CRDi SX Option        Pune  2015   \n",
            "1           2                      Honda Jazz V     Chennai  2011   \n",
            "2           3                 Maruti Ertiga VDI     Chennai  2012   \n",
            "3           4   Audi A4 New 2.0 TDI Multitronic  Coimbatore  2013   \n",
            "4           6            Nissan Micra Diesel XV      Jaipur  2013   \n",
            "\n",
            "   Kilometers_Driven Owner_Type  Mileage  Engine   Power  Seats  Price  \\\n",
            "0              41000      First    19.67  1582.0  126.20    5.0  12.50   \n",
            "1              46000      First    13.00  1199.0   88.70    5.0   4.50   \n",
            "2              87000      First    20.77  1248.0   88.76    7.0   6.00   \n",
            "3              40670     Second    15.20  1968.0  140.80    5.0  17.74   \n",
            "4              86999      First    23.08  1461.0   63.10    5.0   3.50   \n",
            "\n",
            "   Fuel_Type_Diesel  Fuel_Type_Electric  Fuel_Type_Petrol  \\\n",
            "0              True               False             False   \n",
            "1             False               False              True   \n",
            "2              True               False             False   \n",
            "3              True               False             False   \n",
            "4              True               False             False   \n",
            "\n",
            "   Transmission_Automatic  Transmission_Manual  Yrs_in_Service  \\\n",
            "0                   False                 True               9   \n",
            "1                   False                 True              13   \n",
            "2                   False                 True              12   \n",
            "3                    True                False              11   \n",
            "4                   False                 True              11   \n",
            "\n",
            "  Mileage_Category  \n",
            "0              Low  \n",
            "1              Low  \n",
            "2           Medium  \n",
            "3              Low  \n",
            "4           Medium  \n"
          ]
        }
      ]
    },
    {
      "cell_type": "markdown",
      "source": [
        "(e) Perform select, filter, rename, mutate, arrange and summarize with group by operations (or their equivalent operations in python) on this dataset."
      ],
      "metadata": {
        "id": "ZLsRFUbD4G1_"
      }
    },
    {
      "cell_type": "code",
      "source": [
        "# Selecting required columns in the dataset\n",
        "selected_data = new_dataset[['Name', 'Location', 'Year', 'Mileage', 'Price', 'Yrs_in_Service']]\n",
        "# Displaying the results in the dataset\n",
        "print(\"Selected Data:\")\n",
        "print(selected_data.head())"
      ],
      "metadata": {
        "colab": {
          "base_uri": "https://localhost:8080/"
        },
        "id": "kfKeQw0O4JY8",
        "outputId": "87a3e2b9-606d-42b4-a267-5f47e98b1db3"
      },
      "execution_count": 110,
      "outputs": [
        {
          "output_type": "stream",
          "name": "stdout",
          "text": [
            "Selected Data:\n",
            "                               Name    Location  Year  Mileage  Price  \\\n",
            "0  Hyundai Creta 1.6 CRDi SX Option        Pune  2015    19.67  12.50   \n",
            "1                      Honda Jazz V     Chennai  2011    13.00   4.50   \n",
            "2                 Maruti Ertiga VDI     Chennai  2012    20.77   6.00   \n",
            "3   Audi A4 New 2.0 TDI Multitronic  Coimbatore  2013    15.20  17.74   \n",
            "4            Nissan Micra Diesel XV      Jaipur  2013    23.08   3.50   \n",
            "\n",
            "   Yrs_in_Service  \n",
            "0               9  \n",
            "1              13  \n",
            "2              12  \n",
            "3              11  \n",
            "4              11  \n"
          ]
        }
      ]
    },
    {
      "cell_type": "code",
      "source": [
        "# Filtering data based on the Year\n",
        "filtered_data = new_dataset[new_dataset['Year'] >= 2017]\n",
        "print(\"\\nFiltered Data (Year >= 2019):\")\n",
        "print(filtered_data.head())"
      ],
      "metadata": {
        "colab": {
          "base_uri": "https://localhost:8080/"
        },
        "id": "kUaQGBtN4RiY",
        "outputId": "94d12348-181a-4b3e-99f5-932a0c2aff21"
      },
      "execution_count": 111,
      "outputs": [
        {
          "output_type": "stream",
          "name": "stdout",
          "text": [
            "\n",
            "Filtered Data (Year >= 2019):\n",
            "    Unnamed: 0                                     Name Location  Year  \\\n",
            "8           10                         Maruti Ciaz Zeta    Kochi  2018   \n",
            "15          17                    Maruti Swift DDiS VDI   Jaipur  2017   \n",
            "26          28                      Honda WRV i-VTEC VX    Kochi  2018   \n",
            "34          36            Maruti Vitara Brezza ZDi Plus    Kochi  2018   \n",
            "35          37  Mahindra KUV 100 mFALCON G80 K6 5str AW    Delhi  2017   \n",
            "\n",
            "    Kilometers_Driven Owner_Type  Mileage  Engine   Power  Seats  Price  \\\n",
            "8               25692      First    21.56  1462.0  103.25    5.0   9.95   \n",
            "15              25000      First    28.40  1248.0   74.00    5.0   5.99   \n",
            "26              37430      First    17.50  1199.0   88.70    5.0   9.90   \n",
            "34              50075      First    24.30  1248.0   88.50    5.0   8.63   \n",
            "35              52000      First    18.15  1198.0   82.00    5.0   4.85   \n",
            "\n",
            "    Fuel_Type_Diesel  Fuel_Type_Electric  Fuel_Type_Petrol  \\\n",
            "8              False               False              True   \n",
            "15              True               False             False   \n",
            "26             False               False              True   \n",
            "34              True               False             False   \n",
            "35             False               False              True   \n",
            "\n",
            "    Transmission_Automatic  Transmission_Manual  Yrs_in_Service  \\\n",
            "8                    False                 True               6   \n",
            "15                   False                 True               7   \n",
            "26                   False                 True               6   \n",
            "34                   False                 True               6   \n",
            "35                   False                 True               7   \n",
            "\n",
            "   Mileage_Category  \n",
            "8            Medium  \n",
            "15           Medium  \n",
            "26              Low  \n",
            "34           Medium  \n",
            "35              Low  \n"
          ]
        }
      ]
    },
    {
      "cell_type": "code",
      "source": [
        "# Renaming columns in the dataset\n",
        "renamed_data = new_dataset.rename(columns={'Engine': 'EngineDisplacement', 'Power': 'HorsePower'})\n",
        "\n",
        "print(\"\\nRenamed Columns:\")\n",
        "print(renamed_data.head())"
      ],
      "metadata": {
        "colab": {
          "base_uri": "https://localhost:8080/"
        },
        "id": "SdBGbOoB4TiV",
        "outputId": "fd1c3387-658d-4f63-dec5-503485b10cea"
      },
      "execution_count": 112,
      "outputs": [
        {
          "output_type": "stream",
          "name": "stdout",
          "text": [
            "\n",
            "Renamed Columns:\n",
            "   Unnamed: 0                              Name    Location  Year  \\\n",
            "0           1  Hyundai Creta 1.6 CRDi SX Option        Pune  2015   \n",
            "1           2                      Honda Jazz V     Chennai  2011   \n",
            "2           3                 Maruti Ertiga VDI     Chennai  2012   \n",
            "3           4   Audi A4 New 2.0 TDI Multitronic  Coimbatore  2013   \n",
            "4           6            Nissan Micra Diesel XV      Jaipur  2013   \n",
            "\n",
            "   Kilometers_Driven Owner_Type  Mileage  EngineDisplacement  HorsePower  \\\n",
            "0              41000      First    19.67              1582.0      126.20   \n",
            "1              46000      First    13.00              1199.0       88.70   \n",
            "2              87000      First    20.77              1248.0       88.76   \n",
            "3              40670     Second    15.20              1968.0      140.80   \n",
            "4              86999      First    23.08              1461.0       63.10   \n",
            "\n",
            "   Seats  Price  Fuel_Type_Diesel  Fuel_Type_Electric  Fuel_Type_Petrol  \\\n",
            "0    5.0  12.50              True               False             False   \n",
            "1    5.0   4.50             False               False              True   \n",
            "2    7.0   6.00              True               False             False   \n",
            "3    5.0  17.74              True               False             False   \n",
            "4    5.0   3.50              True               False             False   \n",
            "\n",
            "   Transmission_Automatic  Transmission_Manual  Yrs_in_Service  \\\n",
            "0                   False                 True               9   \n",
            "1                   False                 True              13   \n",
            "2                   False                 True              12   \n",
            "3                    True                False              11   \n",
            "4                   False                 True              11   \n",
            "\n",
            "  Mileage_Category  \n",
            "0              Low  \n",
            "1              Low  \n",
            "2           Medium  \n",
            "3              Low  \n",
            "4           Medium  \n"
          ]
        }
      ]
    },
    {
      "cell_type": "code",
      "source": [
        "# Mutating data (creating new columns)\n",
        "new_dataset['Price_Category'] = pd.cut(new_dataset['Price'], bins=[0, 5, 10, 15, 20, 25, 30], labels=['<5', '5-10', '10-15', '15-20', '20-25', '25-30'])\n",
        "\n",
        "print(\"\\nMutated Data (Added Price_Category column):\")\n",
        "print(new_dataset.head())"
      ],
      "metadata": {
        "colab": {
          "base_uri": "https://localhost:8080/"
        },
        "id": "YekRDwLe4XVh",
        "outputId": "d5e65351-f0db-46f7-960c-d441d8e79969"
      },
      "execution_count": 113,
      "outputs": [
        {
          "output_type": "stream",
          "name": "stdout",
          "text": [
            "\n",
            "Mutated Data (Added Price_Category column):\n",
            "   Unnamed: 0                              Name    Location  Year  \\\n",
            "0           1  Hyundai Creta 1.6 CRDi SX Option        Pune  2015   \n",
            "1           2                      Honda Jazz V     Chennai  2011   \n",
            "2           3                 Maruti Ertiga VDI     Chennai  2012   \n",
            "3           4   Audi A4 New 2.0 TDI Multitronic  Coimbatore  2013   \n",
            "4           6            Nissan Micra Diesel XV      Jaipur  2013   \n",
            "\n",
            "   Kilometers_Driven Owner_Type  Mileage  Engine   Power  Seats  Price  \\\n",
            "0              41000      First    19.67  1582.0  126.20    5.0  12.50   \n",
            "1              46000      First    13.00  1199.0   88.70    5.0   4.50   \n",
            "2              87000      First    20.77  1248.0   88.76    7.0   6.00   \n",
            "3              40670     Second    15.20  1968.0  140.80    5.0  17.74   \n",
            "4              86999      First    23.08  1461.0   63.10    5.0   3.50   \n",
            "\n",
            "   Fuel_Type_Diesel  Fuel_Type_Electric  Fuel_Type_Petrol  \\\n",
            "0              True               False             False   \n",
            "1             False               False              True   \n",
            "2              True               False             False   \n",
            "3              True               False             False   \n",
            "4              True               False             False   \n",
            "\n",
            "   Transmission_Automatic  Transmission_Manual  Yrs_in_Service  \\\n",
            "0                   False                 True               9   \n",
            "1                   False                 True              13   \n",
            "2                   False                 True              12   \n",
            "3                    True                False              11   \n",
            "4                   False                 True              11   \n",
            "\n",
            "  Mileage_Category Price_Category  \n",
            "0              Low          10-15  \n",
            "1              Low             <5  \n",
            "2           Medium           5-10  \n",
            "3              Low          15-20  \n",
            "4           Medium             <5  \n"
          ]
        }
      ]
    },
    {
      "cell_type": "code",
      "source": [
        "# Arranging data based on Year in descending order\n",
        "arranged_data = new_dataset.sort_values(by='Year', ascending=False)\n",
        "\n",
        "print(\"\\n Arranged Data (data Sorted by Year in descending order):\")\n",
        "print(arranged_data.head())"
      ],
      "metadata": {
        "colab": {
          "base_uri": "https://localhost:8080/"
        },
        "id": "52HROxv14azL",
        "outputId": "4eb9021f-6d99-48d2-c30d-8b5347a1f9ab"
      },
      "execution_count": 114,
      "outputs": [
        {
          "output_type": "stream",
          "name": "stdout",
          "text": [
            "\n",
            " Arranged Data (data Sorted by Year in descending order):\n",
            "      Unnamed: 0                             Name    Location  Year  \\\n",
            "5405        5560        Renault KWID RXT Optional       Kochi  2019   \n",
            "942          975  Ford Endeavour 2.2 Trend AT 4X2       Kochi  2019   \n",
            "5533        5690        Maruti Omni 5 Seater BSIV  Coimbatore  2019   \n",
            "770          796            Mahindra XUV500 W9 AT  Coimbatore  2019   \n",
            "4267        4399       Maruti Swift Dzire AMT ZDI     Chennai  2019   \n",
            "\n",
            "      Kilometers_Driven Owner_Type  Mileage  Engine  Power  Seats  Price  \\\n",
            "5405               6568      First    25.17   799.0   53.3    5.0   5.09   \n",
            "942               11209      First    12.62  2198.0  158.0    7.0  31.15   \n",
            "5533               4721      First    14.00   796.0   35.0    5.0   4.11   \n",
            "770               19654      First    14.00  2179.0  155.0    7.0  17.63   \n",
            "4267              65000      First    26.59  1248.0   74.0    5.0   6.75   \n",
            "\n",
            "      Fuel_Type_Diesel  Fuel_Type_Electric  Fuel_Type_Petrol  \\\n",
            "5405             False               False              True   \n",
            "942               True               False             False   \n",
            "5533             False               False              True   \n",
            "770               True               False             False   \n",
            "4267              True               False             False   \n",
            "\n",
            "      Transmission_Automatic  Transmission_Manual  Yrs_in_Service  \\\n",
            "5405                   False                 True               5   \n",
            "942                     True                False               5   \n",
            "5533                   False                 True               5   \n",
            "770                     True                False               5   \n",
            "4267                    True                False               5   \n",
            "\n",
            "     Mileage_Category Price_Category  \n",
            "5405           Medium           5-10  \n",
            "942               Low            NaN  \n",
            "5533              Low             <5  \n",
            "770               Low          15-20  \n",
            "4267           Medium           5-10  \n"
          ]
        }
      ]
    },
    {
      "cell_type": "code",
      "source": [
        "# Summarizing data using group by operations\n",
        "summarize_data = new_dataset.groupby('Location')['Price'].mean()\n",
        "\n",
        "print(\"\\n Summarize Data (Average Price by Location):\")\n",
        "print(summarize_data)"
      ],
      "metadata": {
        "colab": {
          "base_uri": "https://localhost:8080/"
        },
        "id": "vepwRo1_4gUd",
        "outputId": "89c62751-8761-4668-a97f-82f73688e113"
      },
      "execution_count": 115,
      "outputs": [
        {
          "output_type": "stream",
          "name": "stdout",
          "text": [
            "\n",
            " Summarize Data (Average Price by Location):\n",
            "Location\n",
            "Ahmedabad      8.567248\n",
            "Bangalore     13.482670\n",
            "Chennai        7.958340\n",
            "Coimbatore    15.160206\n",
            "Delhi          9.881944\n",
            "Hyderabad      9.997423\n",
            "Jaipur         5.916725\n",
            "Kochi         11.309109\n",
            "Kolkata        5.733924\n",
            "Mumbai         9.592546\n",
            "Pune           6.951000\n",
            "Name: Price, dtype: float64\n"
          ]
        }
      ]
    },
    {
      "cell_type": "markdown",
      "source": [
        "Save raw_data(DataFrame) in New CSV"
      ],
      "metadata": {
        "id": "6v85uD-q4j2y"
      }
    },
    {
      "cell_type": "code",
      "source": [
        "new_dataset.head()"
      ],
      "metadata": {
        "colab": {
          "base_uri": "https://localhost:8080/",
          "height": 417
        },
        "id": "Pm2IaE-m4kg2",
        "outputId": "19f4664e-1093-42db-d8a3-9659a51619e7"
      },
      "execution_count": 116,
      "outputs": [
        {
          "output_type": "execute_result",
          "data": {
            "text/plain": [
              "   Unnamed: 0                              Name    Location  Year  \\\n",
              "0           1  Hyundai Creta 1.6 CRDi SX Option        Pune  2015   \n",
              "1           2                      Honda Jazz V     Chennai  2011   \n",
              "2           3                 Maruti Ertiga VDI     Chennai  2012   \n",
              "3           4   Audi A4 New 2.0 TDI Multitronic  Coimbatore  2013   \n",
              "4           6            Nissan Micra Diesel XV      Jaipur  2013   \n",
              "\n",
              "   Kilometers_Driven Owner_Type  Mileage  Engine   Power  Seats  Price  \\\n",
              "0              41000      First    19.67  1582.0  126.20    5.0  12.50   \n",
              "1              46000      First    13.00  1199.0   88.70    5.0   4.50   \n",
              "2              87000      First    20.77  1248.0   88.76    7.0   6.00   \n",
              "3              40670     Second    15.20  1968.0  140.80    5.0  17.74   \n",
              "4              86999      First    23.08  1461.0   63.10    5.0   3.50   \n",
              "\n",
              "   Fuel_Type_Diesel  Fuel_Type_Electric  Fuel_Type_Petrol  \\\n",
              "0              True               False             False   \n",
              "1             False               False              True   \n",
              "2              True               False             False   \n",
              "3              True               False             False   \n",
              "4              True               False             False   \n",
              "\n",
              "   Transmission_Automatic  Transmission_Manual  Yrs_in_Service  \\\n",
              "0                   False                 True               9   \n",
              "1                   False                 True              13   \n",
              "2                   False                 True              12   \n",
              "3                    True                False              11   \n",
              "4                   False                 True              11   \n",
              "\n",
              "  Mileage_Category Price_Category  \n",
              "0              Low          10-15  \n",
              "1              Low             <5  \n",
              "2           Medium           5-10  \n",
              "3              Low          15-20  \n",
              "4           Medium             <5  "
            ],
            "text/html": [
              "\n",
              "  <div id=\"df-a7f3268b-29bb-4ade-a972-cf25aaa28e23\" class=\"colab-df-container\">\n",
              "    <div>\n",
              "<style scoped>\n",
              "    .dataframe tbody tr th:only-of-type {\n",
              "        vertical-align: middle;\n",
              "    }\n",
              "\n",
              "    .dataframe tbody tr th {\n",
              "        vertical-align: top;\n",
              "    }\n",
              "\n",
              "    .dataframe thead th {\n",
              "        text-align: right;\n",
              "    }\n",
              "</style>\n",
              "<table border=\"1\" class=\"dataframe\">\n",
              "  <thead>\n",
              "    <tr style=\"text-align: right;\">\n",
              "      <th></th>\n",
              "      <th>Unnamed: 0</th>\n",
              "      <th>Name</th>\n",
              "      <th>Location</th>\n",
              "      <th>Year</th>\n",
              "      <th>Kilometers_Driven</th>\n",
              "      <th>Owner_Type</th>\n",
              "      <th>Mileage</th>\n",
              "      <th>Engine</th>\n",
              "      <th>Power</th>\n",
              "      <th>Seats</th>\n",
              "      <th>Price</th>\n",
              "      <th>Fuel_Type_Diesel</th>\n",
              "      <th>Fuel_Type_Electric</th>\n",
              "      <th>Fuel_Type_Petrol</th>\n",
              "      <th>Transmission_Automatic</th>\n",
              "      <th>Transmission_Manual</th>\n",
              "      <th>Yrs_in_Service</th>\n",
              "      <th>Mileage_Category</th>\n",
              "      <th>Price_Category</th>\n",
              "    </tr>\n",
              "  </thead>\n",
              "  <tbody>\n",
              "    <tr>\n",
              "      <th>0</th>\n",
              "      <td>1</td>\n",
              "      <td>Hyundai Creta 1.6 CRDi SX Option</td>\n",
              "      <td>Pune</td>\n",
              "      <td>2015</td>\n",
              "      <td>41000</td>\n",
              "      <td>First</td>\n",
              "      <td>19.67</td>\n",
              "      <td>1582.0</td>\n",
              "      <td>126.20</td>\n",
              "      <td>5.0</td>\n",
              "      <td>12.50</td>\n",
              "      <td>True</td>\n",
              "      <td>False</td>\n",
              "      <td>False</td>\n",
              "      <td>False</td>\n",
              "      <td>True</td>\n",
              "      <td>9</td>\n",
              "      <td>Low</td>\n",
              "      <td>10-15</td>\n",
              "    </tr>\n",
              "    <tr>\n",
              "      <th>1</th>\n",
              "      <td>2</td>\n",
              "      <td>Honda Jazz V</td>\n",
              "      <td>Chennai</td>\n",
              "      <td>2011</td>\n",
              "      <td>46000</td>\n",
              "      <td>First</td>\n",
              "      <td>13.00</td>\n",
              "      <td>1199.0</td>\n",
              "      <td>88.70</td>\n",
              "      <td>5.0</td>\n",
              "      <td>4.50</td>\n",
              "      <td>False</td>\n",
              "      <td>False</td>\n",
              "      <td>True</td>\n",
              "      <td>False</td>\n",
              "      <td>True</td>\n",
              "      <td>13</td>\n",
              "      <td>Low</td>\n",
              "      <td>&lt;5</td>\n",
              "    </tr>\n",
              "    <tr>\n",
              "      <th>2</th>\n",
              "      <td>3</td>\n",
              "      <td>Maruti Ertiga VDI</td>\n",
              "      <td>Chennai</td>\n",
              "      <td>2012</td>\n",
              "      <td>87000</td>\n",
              "      <td>First</td>\n",
              "      <td>20.77</td>\n",
              "      <td>1248.0</td>\n",
              "      <td>88.76</td>\n",
              "      <td>7.0</td>\n",
              "      <td>6.00</td>\n",
              "      <td>True</td>\n",
              "      <td>False</td>\n",
              "      <td>False</td>\n",
              "      <td>False</td>\n",
              "      <td>True</td>\n",
              "      <td>12</td>\n",
              "      <td>Medium</td>\n",
              "      <td>5-10</td>\n",
              "    </tr>\n",
              "    <tr>\n",
              "      <th>3</th>\n",
              "      <td>4</td>\n",
              "      <td>Audi A4 New 2.0 TDI Multitronic</td>\n",
              "      <td>Coimbatore</td>\n",
              "      <td>2013</td>\n",
              "      <td>40670</td>\n",
              "      <td>Second</td>\n",
              "      <td>15.20</td>\n",
              "      <td>1968.0</td>\n",
              "      <td>140.80</td>\n",
              "      <td>5.0</td>\n",
              "      <td>17.74</td>\n",
              "      <td>True</td>\n",
              "      <td>False</td>\n",
              "      <td>False</td>\n",
              "      <td>True</td>\n",
              "      <td>False</td>\n",
              "      <td>11</td>\n",
              "      <td>Low</td>\n",
              "      <td>15-20</td>\n",
              "    </tr>\n",
              "    <tr>\n",
              "      <th>4</th>\n",
              "      <td>6</td>\n",
              "      <td>Nissan Micra Diesel XV</td>\n",
              "      <td>Jaipur</td>\n",
              "      <td>2013</td>\n",
              "      <td>86999</td>\n",
              "      <td>First</td>\n",
              "      <td>23.08</td>\n",
              "      <td>1461.0</td>\n",
              "      <td>63.10</td>\n",
              "      <td>5.0</td>\n",
              "      <td>3.50</td>\n",
              "      <td>True</td>\n",
              "      <td>False</td>\n",
              "      <td>False</td>\n",
              "      <td>False</td>\n",
              "      <td>True</td>\n",
              "      <td>11</td>\n",
              "      <td>Medium</td>\n",
              "      <td>&lt;5</td>\n",
              "    </tr>\n",
              "  </tbody>\n",
              "</table>\n",
              "</div>\n",
              "    <div class=\"colab-df-buttons\">\n",
              "\n",
              "  <div class=\"colab-df-container\">\n",
              "    <button class=\"colab-df-convert\" onclick=\"convertToInteractive('df-a7f3268b-29bb-4ade-a972-cf25aaa28e23')\"\n",
              "            title=\"Convert this dataframe to an interactive table.\"\n",
              "            style=\"display:none;\">\n",
              "\n",
              "  <svg xmlns=\"http://www.w3.org/2000/svg\" height=\"24px\" viewBox=\"0 -960 960 960\">\n",
              "    <path d=\"M120-120v-720h720v720H120Zm60-500h600v-160H180v160Zm220 220h160v-160H400v160Zm0 220h160v-160H400v160ZM180-400h160v-160H180v160Zm440 0h160v-160H620v160ZM180-180h160v-160H180v160Zm440 0h160v-160H620v160Z\"/>\n",
              "  </svg>\n",
              "    </button>\n",
              "\n",
              "  <style>\n",
              "    .colab-df-container {\n",
              "      display:flex;\n",
              "      gap: 12px;\n",
              "    }\n",
              "\n",
              "    .colab-df-convert {\n",
              "      background-color: #E8F0FE;\n",
              "      border: none;\n",
              "      border-radius: 50%;\n",
              "      cursor: pointer;\n",
              "      display: none;\n",
              "      fill: #1967D2;\n",
              "      height: 32px;\n",
              "      padding: 0 0 0 0;\n",
              "      width: 32px;\n",
              "    }\n",
              "\n",
              "    .colab-df-convert:hover {\n",
              "      background-color: #E2EBFA;\n",
              "      box-shadow: 0px 1px 2px rgba(60, 64, 67, 0.3), 0px 1px 3px 1px rgba(60, 64, 67, 0.15);\n",
              "      fill: #174EA6;\n",
              "    }\n",
              "\n",
              "    .colab-df-buttons div {\n",
              "      margin-bottom: 4px;\n",
              "    }\n",
              "\n",
              "    [theme=dark] .colab-df-convert {\n",
              "      background-color: #3B4455;\n",
              "      fill: #D2E3FC;\n",
              "    }\n",
              "\n",
              "    [theme=dark] .colab-df-convert:hover {\n",
              "      background-color: #434B5C;\n",
              "      box-shadow: 0px 1px 3px 1px rgba(0, 0, 0, 0.15);\n",
              "      filter: drop-shadow(0px 1px 2px rgba(0, 0, 0, 0.3));\n",
              "      fill: #FFFFFF;\n",
              "    }\n",
              "  </style>\n",
              "\n",
              "    <script>\n",
              "      const buttonEl =\n",
              "        document.querySelector('#df-a7f3268b-29bb-4ade-a972-cf25aaa28e23 button.colab-df-convert');\n",
              "      buttonEl.style.display =\n",
              "        google.colab.kernel.accessAllowed ? 'block' : 'none';\n",
              "\n",
              "      async function convertToInteractive(key) {\n",
              "        const element = document.querySelector('#df-a7f3268b-29bb-4ade-a972-cf25aaa28e23');\n",
              "        const dataTable =\n",
              "          await google.colab.kernel.invokeFunction('convertToInteractive',\n",
              "                                                    [key], {});\n",
              "        if (!dataTable) return;\n",
              "\n",
              "        const docLinkHtml = 'Like what you see? Visit the ' +\n",
              "          '<a target=\"_blank\" href=https://colab.research.google.com/notebooks/data_table.ipynb>data table notebook</a>'\n",
              "          + ' to learn more about interactive tables.';\n",
              "        element.innerHTML = '';\n",
              "        dataTable['output_type'] = 'display_data';\n",
              "        await google.colab.output.renderOutput(dataTable, element);\n",
              "        const docLink = document.createElement('div');\n",
              "        docLink.innerHTML = docLinkHtml;\n",
              "        element.appendChild(docLink);\n",
              "      }\n",
              "    </script>\n",
              "  </div>\n",
              "\n",
              "\n",
              "<div id=\"df-f804665b-6e00-44be-8aaf-c0f6bb47bf1c\">\n",
              "  <button class=\"colab-df-quickchart\" onclick=\"quickchart('df-f804665b-6e00-44be-8aaf-c0f6bb47bf1c')\"\n",
              "            title=\"Suggest charts\"\n",
              "            style=\"display:none;\">\n",
              "\n",
              "<svg xmlns=\"http://www.w3.org/2000/svg\" height=\"24px\"viewBox=\"0 0 24 24\"\n",
              "     width=\"24px\">\n",
              "    <g>\n",
              "        <path d=\"M19 3H5c-1.1 0-2 .9-2 2v14c0 1.1.9 2 2 2h14c1.1 0 2-.9 2-2V5c0-1.1-.9-2-2-2zM9 17H7v-7h2v7zm4 0h-2V7h2v10zm4 0h-2v-4h2v4z\"/>\n",
              "    </g>\n",
              "</svg>\n",
              "  </button>\n",
              "\n",
              "<style>\n",
              "  .colab-df-quickchart {\n",
              "      --bg-color: #E8F0FE;\n",
              "      --fill-color: #1967D2;\n",
              "      --hover-bg-color: #E2EBFA;\n",
              "      --hover-fill-color: #174EA6;\n",
              "      --disabled-fill-color: #AAA;\n",
              "      --disabled-bg-color: #DDD;\n",
              "  }\n",
              "\n",
              "  [theme=dark] .colab-df-quickchart {\n",
              "      --bg-color: #3B4455;\n",
              "      --fill-color: #D2E3FC;\n",
              "      --hover-bg-color: #434B5C;\n",
              "      --hover-fill-color: #FFFFFF;\n",
              "      --disabled-bg-color: #3B4455;\n",
              "      --disabled-fill-color: #666;\n",
              "  }\n",
              "\n",
              "  .colab-df-quickchart {\n",
              "    background-color: var(--bg-color);\n",
              "    border: none;\n",
              "    border-radius: 50%;\n",
              "    cursor: pointer;\n",
              "    display: none;\n",
              "    fill: var(--fill-color);\n",
              "    height: 32px;\n",
              "    padding: 0;\n",
              "    width: 32px;\n",
              "  }\n",
              "\n",
              "  .colab-df-quickchart:hover {\n",
              "    background-color: var(--hover-bg-color);\n",
              "    box-shadow: 0 1px 2px rgba(60, 64, 67, 0.3), 0 1px 3px 1px rgba(60, 64, 67, 0.15);\n",
              "    fill: var(--button-hover-fill-color);\n",
              "  }\n",
              "\n",
              "  .colab-df-quickchart-complete:disabled,\n",
              "  .colab-df-quickchart-complete:disabled:hover {\n",
              "    background-color: var(--disabled-bg-color);\n",
              "    fill: var(--disabled-fill-color);\n",
              "    box-shadow: none;\n",
              "  }\n",
              "\n",
              "  .colab-df-spinner {\n",
              "    border: 2px solid var(--fill-color);\n",
              "    border-color: transparent;\n",
              "    border-bottom-color: var(--fill-color);\n",
              "    animation:\n",
              "      spin 1s steps(1) infinite;\n",
              "  }\n",
              "\n",
              "  @keyframes spin {\n",
              "    0% {\n",
              "      border-color: transparent;\n",
              "      border-bottom-color: var(--fill-color);\n",
              "      border-left-color: var(--fill-color);\n",
              "    }\n",
              "    20% {\n",
              "      border-color: transparent;\n",
              "      border-left-color: var(--fill-color);\n",
              "      border-top-color: var(--fill-color);\n",
              "    }\n",
              "    30% {\n",
              "      border-color: transparent;\n",
              "      border-left-color: var(--fill-color);\n",
              "      border-top-color: var(--fill-color);\n",
              "      border-right-color: var(--fill-color);\n",
              "    }\n",
              "    40% {\n",
              "      border-color: transparent;\n",
              "      border-right-color: var(--fill-color);\n",
              "      border-top-color: var(--fill-color);\n",
              "    }\n",
              "    60% {\n",
              "      border-color: transparent;\n",
              "      border-right-color: var(--fill-color);\n",
              "    }\n",
              "    80% {\n",
              "      border-color: transparent;\n",
              "      border-right-color: var(--fill-color);\n",
              "      border-bottom-color: var(--fill-color);\n",
              "    }\n",
              "    90% {\n",
              "      border-color: transparent;\n",
              "      border-bottom-color: var(--fill-color);\n",
              "    }\n",
              "  }\n",
              "</style>\n",
              "\n",
              "  <script>\n",
              "    async function quickchart(key) {\n",
              "      const quickchartButtonEl =\n",
              "        document.querySelector('#' + key + ' button');\n",
              "      quickchartButtonEl.disabled = true;  // To prevent multiple clicks.\n",
              "      quickchartButtonEl.classList.add('colab-df-spinner');\n",
              "      try {\n",
              "        const charts = await google.colab.kernel.invokeFunction(\n",
              "            'suggestCharts', [key], {});\n",
              "      } catch (error) {\n",
              "        console.error('Error during call to suggestCharts:', error);\n",
              "      }\n",
              "      quickchartButtonEl.classList.remove('colab-df-spinner');\n",
              "      quickchartButtonEl.classList.add('colab-df-quickchart-complete');\n",
              "    }\n",
              "    (() => {\n",
              "      let quickchartButtonEl =\n",
              "        document.querySelector('#df-f804665b-6e00-44be-8aaf-c0f6bb47bf1c button');\n",
              "      quickchartButtonEl.style.display =\n",
              "        google.colab.kernel.accessAllowed ? 'block' : 'none';\n",
              "    })();\n",
              "  </script>\n",
              "</div>\n",
              "\n",
              "    </div>\n",
              "  </div>\n"
            ],
            "application/vnd.google.colaboratory.intrinsic+json": {
              "type": "dataframe",
              "variable_name": "new_dataset",
              "summary": "{\n  \"name\": \"new_dataset\",\n  \"rows\": 5847,\n  \"fields\": [\n    {\n      \"column\": \"Unnamed: 0\",\n      \"properties\": {\n        \"dtype\": \"number\",\n        \"std\": 1736,\n        \"min\": 1,\n        \"max\": 6018,\n        \"num_unique_values\": 5847,\n        \"samples\": [\n          5259,\n          3413,\n          4365\n        ],\n        \"semantic_type\": \"\",\n        \"description\": \"\"\n      }\n    },\n    {\n      \"column\": \"Name\",\n      \"properties\": {\n        \"dtype\": \"category\",\n        \"num_unique_values\": 1804,\n        \"samples\": [\n          \"BMW 7 Series 2007-2012 750Li\",\n          \"Maruti Ertiga SHVS VDI\",\n          \"Mahindra XUV300 W8 Diesel\"\n        ],\n        \"semantic_type\": \"\",\n        \"description\": \"\"\n      }\n    },\n    {\n      \"column\": \"Location\",\n      \"properties\": {\n        \"dtype\": \"category\",\n        \"num_unique_values\": 11,\n        \"samples\": [\n          \"Kochi\",\n          \"Pune\",\n          \"Hyderabad\"\n        ],\n        \"semantic_type\": \"\",\n        \"description\": \"\"\n      }\n    },\n    {\n      \"column\": \"Year\",\n      \"properties\": {\n        \"dtype\": \"number\",\n        \"std\": 3,\n        \"min\": 1998,\n        \"max\": 2019,\n        \"num_unique_values\": 22,\n        \"samples\": [\n          2015,\n          2006,\n          2010\n        ],\n        \"semantic_type\": \"\",\n        \"description\": \"\"\n      }\n    },\n    {\n      \"column\": \"Kilometers_Driven\",\n      \"properties\": {\n        \"dtype\": \"number\",\n        \"std\": 92379,\n        \"min\": 171,\n        \"max\": 6500000,\n        \"num_unique_values\": 3019,\n        \"samples\": [\n          56075,\n          75421,\n          143275\n        ],\n        \"semantic_type\": \"\",\n        \"description\": \"\"\n      }\n    },\n    {\n      \"column\": \"Owner_Type\",\n      \"properties\": {\n        \"dtype\": \"category\",\n        \"num_unique_values\": 4,\n        \"samples\": [\n          \"Second\",\n          \"Third\",\n          \"First\"\n        ],\n        \"semantic_type\": \"\",\n        \"description\": \"\"\n      }\n    },\n    {\n      \"column\": \"Mileage\",\n      \"properties\": {\n        \"dtype\": \"number\",\n        \"std\": 4.357500155609375,\n        \"min\": 0.0,\n        \"max\": 28.4,\n        \"num_unique_values\": 418,\n        \"samples\": [\n          15.74,\n          10.9,\n          19.68\n        ],\n        \"semantic_type\": \"\",\n        \"description\": \"\"\n      }\n    },\n    {\n      \"column\": \"Engine\",\n      \"properties\": {\n        \"dtype\": \"number\",\n        \"std\": 600.1162338504644,\n        \"min\": 72.0,\n        \"max\": 5998.0,\n        \"num_unique_values\": 141,\n        \"samples\": [\n          1794.0,\n          1172.0,\n          799.0\n        ],\n        \"semantic_type\": \"\",\n        \"description\": \"\"\n      }\n    },\n    {\n      \"column\": \"Power\",\n      \"properties\": {\n        \"dtype\": \"number\",\n        \"std\": 53.73051279234071,\n        \"min\": 34.2,\n        \"max\": 560.0,\n        \"num_unique_values\": 360,\n        \"samples\": [\n          158.0,\n          75.0,\n          200.0\n        ],\n        \"semantic_type\": \"\",\n        \"description\": \"\"\n      }\n    },\n    {\n      \"column\": \"Seats\",\n      \"properties\": {\n        \"dtype\": \"number\",\n        \"std\": 0.804042107982632,\n        \"min\": 2.0,\n        \"max\": 10.0,\n        \"num_unique_values\": 9,\n        \"samples\": [\n          10.0,\n          7.0,\n          2.0\n        ],\n        \"semantic_type\": \"\",\n        \"description\": \"\"\n      }\n    },\n    {\n      \"column\": \"Price\",\n      \"properties\": {\n        \"dtype\": \"number\",\n        \"std\": 11.275965706808474,\n        \"min\": 0.44,\n        \"max\": 160.0,\n        \"num_unique_values\": 1366,\n        \"samples\": [\n          3.98,\n          3.78,\n          4.24\n        ],\n        \"semantic_type\": \"\",\n        \"description\": \"\"\n      }\n    },\n    {\n      \"column\": \"Fuel_Type_Diesel\",\n      \"properties\": {\n        \"dtype\": \"boolean\",\n        \"num_unique_values\": 2,\n        \"samples\": [\n          false,\n          true\n        ],\n        \"semantic_type\": \"\",\n        \"description\": \"\"\n      }\n    },\n    {\n      \"column\": \"Fuel_Type_Electric\",\n      \"properties\": {\n        \"dtype\": \"boolean\",\n        \"num_unique_values\": 2,\n        \"samples\": [\n          true,\n          false\n        ],\n        \"semantic_type\": \"\",\n        \"description\": \"\"\n      }\n    },\n    {\n      \"column\": \"Fuel_Type_Petrol\",\n      \"properties\": {\n        \"dtype\": \"boolean\",\n        \"num_unique_values\": 2,\n        \"samples\": [\n          true,\n          false\n        ],\n        \"semantic_type\": \"\",\n        \"description\": \"\"\n      }\n    },\n    {\n      \"column\": \"Transmission_Automatic\",\n      \"properties\": {\n        \"dtype\": \"boolean\",\n        \"num_unique_values\": 2,\n        \"samples\": [\n          true,\n          false\n        ],\n        \"semantic_type\": \"\",\n        \"description\": \"\"\n      }\n    },\n    {\n      \"column\": \"Transmission_Manual\",\n      \"properties\": {\n        \"dtype\": \"boolean\",\n        \"num_unique_values\": 2,\n        \"samples\": [\n          false,\n          true\n        ],\n        \"semantic_type\": \"\",\n        \"description\": \"\"\n      }\n    },\n    {\n      \"column\": \"Yrs_in_Service\",\n      \"properties\": {\n        \"dtype\": \"number\",\n        \"std\": 3,\n        \"min\": 5,\n        \"max\": 26,\n        \"num_unique_values\": 22,\n        \"samples\": [\n          9,\n          18\n        ],\n        \"semantic_type\": \"\",\n        \"description\": \"\"\n      }\n    },\n    {\n      \"column\": \"Mileage_Category\",\n      \"properties\": {\n        \"dtype\": \"category\",\n        \"num_unique_values\": 3,\n        \"samples\": [\n          \"Low\",\n          \"Medium\"\n        ],\n        \"semantic_type\": \"\",\n        \"description\": \"\"\n      }\n    },\n    {\n      \"column\": \"Price_Category\",\n      \"properties\": {\n        \"dtype\": \"category\",\n        \"num_unique_values\": 6,\n        \"samples\": [\n          \"10-15\",\n          \"<5\"\n        ],\n        \"semantic_type\": \"\",\n        \"description\": \"\"\n      }\n    }\n  ]\n}"
            }
          },
          "metadata": {},
          "execution_count": 116
        }
      ]
    },
    {
      "cell_type": "code",
      "source": [
        "#Save the data into cleaned data csv\n",
        "new_dataset.to_csv(\"/clean_data.csv\")"
      ],
      "metadata": {
        "id": "yEjztAUE4pxZ"
      },
      "execution_count": 119,
      "outputs": []
    }
  ]
}